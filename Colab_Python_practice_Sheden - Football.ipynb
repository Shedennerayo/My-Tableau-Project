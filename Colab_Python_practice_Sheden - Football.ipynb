{
  "nbformat": 4,
  "nbformat_minor": 0,
  "metadata": {
    "colab": {
      "provenance": [],
      "toc_visible": true,
      "authorship_tag": "ABX9TyOnA5Fvrz16CEe9+RfL6u+n",
      "include_colab_link": true
    },
    "kernelspec": {
      "name": "python3",
      "display_name": "Python 3"
    },
    "language_info": {
      "name": "python"
    }
  },
  "cells": [
    {
      "cell_type": "markdown",
      "metadata": {
        "id": "view-in-github",
        "colab_type": "text"
      },
      "source": [
        "<a href=\"https://colab.research.google.com/github/Shedennerayo/My-Tableau-Project/blob/main/Colab_Python_practice_Sheden%20-%20Football.ipynb\" target=\"_parent\"><img src=\"https://colab.research.google.com/assets/colab-badge.svg\" alt=\"Open In Colab\"/></a>"
      ]
    },
    {
      "cell_type": "code",
      "execution_count": null,
      "metadata": {
        "colab": {
          "base_uri": "https://localhost:8080/"
        },
        "id": "7rD6qbmB7N9w",
        "outputId": "b75467e6-9f4f-4a49-8b36-0d37114be7f3"
      },
      "outputs": [
        {
          "output_type": "stream",
          "name": "stdout",
          "text": [
            "1\n",
            "1000000\n",
            "100000\n",
            "10000\n",
            "100\n"
          ]
        }
      ],
      "source": [
        "my_tuple=(1,10,100,1000,10000,100000,1000000)\n",
        "print(my_tuple[0])\n",
        "print(my_tuple[-1])\n",
        "print(my_tuple[5])\n",
        "print(my_tuple[-3])\n",
        "list(my_tuple)\n",
        "print(my_tuple[-5])"
      ]
    },
    {
      "cell_type": "code",
      "source": [
        "dict1={\n",
        "    \"sport\":\"football\",\n",
        "    \"team\":\"Arsenal\",\n",
        "    \"league\":\"Premierleague\",\n",
        "    \"last_score\":6-0,\n",
        "    }"
      ],
      "metadata": {
        "id": "GvTFODja9RMp"
      },
      "execution_count": null,
      "outputs": []
    },
    {
      "cell_type": "code",
      "source": [
        "print(dict1)"
      ],
      "metadata": {
        "colab": {
          "base_uri": "https://localhost:8080/"
        },
        "id": "QDq5hBOe7Omf",
        "outputId": "36f23d02-6d9b-482f-e67f-4dca77c8ebb9"
      },
      "execution_count": null,
      "outputs": [
        {
          "output_type": "stream",
          "name": "stdout",
          "text": [
            "{'sport': 'football', 'team': 'Arsenal', 'league': 'Premierleague', 'last_score': 6}\n"
          ]
        }
      ]
    },
    {
      "cell_type": "code",
      "source": [
        "dict1.values()"
      ],
      "metadata": {
        "colab": {
          "base_uri": "https://localhost:8080/"
        },
        "id": "No-ML5Lq_RWN",
        "outputId": "9c5e6b5f-2966-44a6-cfc3-6a4959a62731"
      },
      "execution_count": null,
      "outputs": [
        {
          "output_type": "execute_result",
          "data": {
            "text/plain": [
              "dict_values(['football', 'Arsenal', 'Premierleague', 6])"
            ]
          },
          "metadata": {},
          "execution_count": 17
        }
      ]
    },
    {
      "cell_type": "code",
      "source": [
        "dict1.popitem()"
      ],
      "metadata": {
        "colab": {
          "base_uri": "https://localhost:8080/"
        },
        "id": "13KkU9-uAMuK",
        "outputId": "1b547ad5-59e0-4b0b-8ae3-7eefd9180119"
      },
      "execution_count": null,
      "outputs": [
        {
          "output_type": "execute_result",
          "data": {
            "text/plain": [
              "('team', 'Arsenal')"
            ]
          },
          "metadata": {},
          "execution_count": 24
        }
      ]
    },
    {
      "cell_type": "code",
      "source": [
        "a=20\n",
        "b=22"
      ],
      "metadata": {
        "id": "dPHgqNFuJpmq"
      },
      "execution_count": null,
      "outputs": []
    },
    {
      "cell_type": "code",
      "source": [
        "\"a\"<=\"b\""
      ],
      "metadata": {
        "colab": {
          "base_uri": "https://localhost:8080/"
        },
        "id": "RpFWXYmCKFQL",
        "outputId": "13f6beab-15ef-4e24-c662-a7e58943c8ac"
      },
      "execution_count": null,
      "outputs": [
        {
          "output_type": "execute_result",
          "data": {
            "text/plain": [
              "True"
            ]
          },
          "metadata": {},
          "execution_count": 32
        }
      ]
    },
    {
      "cell_type": "code",
      "source": [
        "23==21"
      ],
      "metadata": {
        "colab": {
          "base_uri": "https://localhost:8080/"
        },
        "id": "sOeubbcqAv-M",
        "outputId": "6e6a9b65-0a7a-4c2a-b860-a050769ed57a"
      },
      "execution_count": null,
      "outputs": [
        {
          "output_type": "execute_result",
          "data": {
            "text/plain": [
              "False"
            ]
          },
          "metadata": {},
          "execution_count": 25
        }
      ]
    },
    {
      "cell_type": "code",
      "source": [
        "n=109\n",
        "n<=100\n"
      ],
      "metadata": {
        "colab": {
          "base_uri": "https://localhost:8080/"
        },
        "id": "dtiKtLJ3Kowi",
        "outputId": "7cb4e265-3bd8-430e-f578-422a901a525f"
      },
      "execution_count": null,
      "outputs": [
        {
          "output_type": "execute_result",
          "data": {
            "text/plain": [
              "False"
            ]
          },
          "metadata": {},
          "execution_count": 35
        }
      ]
    },
    {
      "cell_type": "code",
      "source": [
        "n=int(input(\"what is your number?\"))\n",
        "if n<=100:\n",
        "  print(\"false\")\n",
        "else:\n",
        "  print(\"true\")"
      ],
      "metadata": {
        "colab": {
          "base_uri": "https://localhost:8080/"
        },
        "id": "KjFJCTuiLXw6",
        "outputId": "ec50cf99-e8b8-45f0-c28f-f1c64018f6bb"
      },
      "execution_count": null,
      "outputs": [
        {
          "output_type": "stream",
          "name": "stdout",
          "text": [
            "what is your number?109\n",
            "true\n"
          ]
        }
      ]
    },
    {
      "cell_type": "code",
      "source": [
        "n=input(\"Who is the greatest team in the league?\")\n",
        "if n==\"Arsenal\":\n",
        "  print(\"COYG\")\n",
        "else:\n",
        "    print(\"Your head has fell off mate!\")"
      ],
      "metadata": {
        "colab": {
          "base_uri": "https://localhost:8080/"
        },
        "id": "CruFoXHdQ40W",
        "outputId": "f0db3100-8209-48d8-8c08-a14fd319f919"
      },
      "execution_count": null,
      "outputs": [
        {
          "output_type": "stream",
          "name": "stdout",
          "text": [
            "Who is the greatest team in the league?Tottenham\n",
            "Your head has fell off mate!\n"
          ]
        }
      ]
    },
    {
      "cell_type": "code",
      "source": [
        "Temprature=int(input(\"whats the tempreture like?\"))\n",
        "if Temprature<0:\n",
        "  print(\"Freezing\")\n",
        "elif Temprature<=10:\n",
        "  print(\"Cold\")\n",
        "elif Temprature<=20:\n",
        "  print(\"Moderate\")\n",
        "elif Temprature<=30:\n",
        "  print(\"Warm\")\n",
        "else:\n",
        "  print(\"Hot\")\n"
      ],
      "metadata": {
        "colab": {
          "base_uri": "https://localhost:8080/"
        },
        "id": "O8f-nxZZYdTA",
        "outputId": "ae888b04-7478-4cc7-c6e8-ca27cd37a137"
      },
      "execution_count": null,
      "outputs": [
        {
          "output_type": "stream",
          "name": "stdout",
          "text": [
            "whats the tempreture like?10\n",
            "Cold\n"
          ]
        }
      ]
    },
    {
      "cell_type": "code",
      "source": [
        "i=0\n",
        "while i<6:\n",
        "  print(i)\n",
        "  i=i+1\n",
        "print(\"loop has ended\")"
      ],
      "metadata": {
        "colab": {
          "base_uri": "https://localhost:8080/"
        },
        "id": "tu6L25VgxiC7",
        "outputId": "99d05e70-9a26-4675-bddf-f8c694664087"
      },
      "execution_count": null,
      "outputs": [
        {
          "output_type": "stream",
          "name": "stdout",
          "text": [
            "0\n",
            "1\n",
            "2\n",
            "3\n",
            "4\n",
            "5\n",
            "loop has ended\n"
          ]
        }
      ]
    },
    {
      "cell_type": "code",
      "source": [
        "Premier_teams=[\"Arsenal\",\"Liverpool\",\"Mancity\",\"Manunited\"]\n",
        "for teams in Premier_teams:\n",
        "  print(teams*2)\n",
        "  print(\"done\")"
      ],
      "metadata": {
        "colab": {
          "base_uri": "https://localhost:8080/"
        },
        "id": "nugXKWjP4Fwc",
        "outputId": "2d3655b2-e1b4-4c46-861f-d81829270f37"
      },
      "execution_count": null,
      "outputs": [
        {
          "output_type": "stream",
          "name": "stdout",
          "text": [
            "ArsenalArsenal\n",
            "done\n",
            "LiverpoolLiverpool\n",
            "done\n",
            "MancityMancity\n",
            "done\n",
            "ManunitedManunited\n",
            "done\n"
          ]
        }
      ]
    },
    {
      "cell_type": "code",
      "source": [
        "for number in range(21,49,7):\n",
        "  print(number)"
      ],
      "metadata": {
        "colab": {
          "base_uri": "https://localhost:8080/"
        },
        "id": "THSaSiv-6vCV",
        "outputId": "66bfed14-5946-49ff-e956-9168b2ac059f"
      },
      "execution_count": null,
      "outputs": [
        {
          "output_type": "stream",
          "name": "stdout",
          "text": [
            "21\n",
            "28\n",
            "35\n",
            "42\n"
          ]
        }
      ]
    },
    {
      "cell_type": "markdown",
      "source": [
        "Menu sec"
      ],
      "metadata": {
        "id": "EqJkIN_vN5bi"
      }
    },
    {
      "cell_type": "code",
      "source": [
        "Menu=[\"Display balance\",\"Withdraw funds\",\"deposit funds\",\"Return card\"]\n",
        "print(Menu)"
      ],
      "metadata": {
        "colab": {
          "base_uri": "https://localhost:8080/"
        },
        "id": "5hYGiPlVDlDi",
        "outputId": "c514c4ab-bdd9-4c4c-981c-76e314a7ff47"
      },
      "execution_count": null,
      "outputs": [
        {
          "output_type": "stream",
          "name": "stdout",
          "text": [
            "['Display balance', 'Withdraw funds', 'deposit funds', 'Return card']\n"
          ]
        }
      ]
    },
    {
      "cell_type": "markdown",
      "source": [
        "password sec"
      ],
      "metadata": {
        "id": "nEwYgh6KN1mn"
      }
    },
    {
      "cell_type": "code",
      "source": [
        "password=\"Arsenal\"\n",
        "user_input=str(input(\"Please enter your Password!\"))\n",
        "attempts<=3\n",
        "if password==user_input:\n",
        "  print(\"Welcome\")\n",
        "else:\n",
        "  print(\"Password Wrong! Please try again\"),\n",
        "  number_of_attemps>3\n"
      ],
      "metadata": {
        "colab": {
          "base_uri": "https://localhost:8080/"
        },
        "id": "9yL0bnBdDk_b",
        "outputId": "91c94819-0eea-4ba1-c84c-060fd4c48ce1"
      },
      "execution_count": null,
      "outputs": [
        {
          "output_type": "stream",
          "name": "stdout",
          "text": [
            "Please enter your Password!Arsenal\n",
            "Welcome\n"
          ]
        }
      ]
    },
    {
      "cell_type": "code",
      "source": [
        "if  password  != user_input:\n",
        "  attempts -=1\n",
        "  print(\"Incorrect! You have\", attempts, \"Attempts Left!\")"
      ],
      "metadata": {
        "id": "dtFcjiX4RfNf"
      },
      "execution_count": null,
      "outputs": []
    },
    {
      "cell_type": "code",
      "source": [],
      "metadata": {
        "id": "f-bwAIawLpkw"
      },
      "execution_count": null,
      "outputs": []
    }
  ]
}